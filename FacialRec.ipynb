{
  "cells": [
    {
      "cell_type": "markdown",
      "metadata": {
        "id": "Dqfsp_U-k0Ue"
      },
      "source": []
    },
    {
      "cell_type": "markdown",
      "metadata": {
        "id": "KowhDAkGk2Wv"
      },
      "source": [
        "# **1.1. Import Dependencies**"
      ]
    },
    {
      "cell_type": "code",
      "execution_count": 2,
      "metadata": {
        "id": "xMUsNafEk4qD"
      },
      "outputs": [],
      "source": [
        "#Importing dependencies\n",
        "import cv2\n",
        "import os\n",
        "import random\n",
        "import numpy as np\n",
        "from matplotlib import pyplot as plt"
      ]
    },
    {
      "cell_type": "code",
      "execution_count": 2,
      "metadata": {
        "id": "E_hRxgsWmf7G"
      },
      "outputs": [],
      "source": [
        "#Import TensorFlow Dependencies\n",
        "from tensorflow import keras\n",
        "from keras.models import Model\n",
        "from keras.layers import Layer, Input, Conv2D, MaxPooling2D, Flatten, Dense\n",
        "import tensorflow as tf"
      ]
    },
    {
      "cell_type": "markdown",
      "metadata": {
        "id": "33X0xs1zlkzh"
      },
      "source": [
        "## **1.2. Set GPU Growth**\n",
        "\n"
      ]
    },
    {
      "cell_type": "code",
      "execution_count": 3,
      "metadata": {
        "id": "nSi8hjB9q_92"
      },
      "outputs": [],
      "source": [
        "#Avoid OOM Errors by setting GPU consumption growth\n",
        "gpus = tf.config.experimental.list_physical_devices('GPU')\n",
        "for gpu in gpus:\n",
        "  tf.config.experimental.set_memory_growth(gpu, True)\n"
      ]
    },
    {
      "cell_type": "code",
      "execution_count": 4,
      "metadata": {
        "colab": {
          "base_uri": "https://localhost:8080/"
        },
        "id": "hFev4B0AGC0a",
        "outputId": "7fb52d06-5a8c-4347-9aa5-9ed64c93c4bd"
      },
      "outputs": [
        {
          "name": "stdout",
          "output_type": "stream",
          "text": [
            "PhysicalDevice(name='/physical_device:GPU:0', device_type='GPU')\n"
          ]
        }
      ],
      "source": [
        "for gpu in gpus:\n",
        "  print(gpu)"
      ]
    },
    {
      "cell_type": "markdown",
      "metadata": {
        "id": "13nSml49F17Q"
      },
      "source": [
        "## 1.3. Create Folder Structures"
      ]
    },
    {
      "cell_type": "code",
      "execution_count": 2,
      "metadata": {
        "id": "5kQFqr1qF86R"
      },
      "outputs": [],
      "source": [
        "#Setup Paths\n",
        "POS_PATH = os.path.join('data', 'positive')\n",
        "NEG_PATH = os.path.join('data', 'negative')\n",
        "ANC_PATH = os.path.join('data', 'anchor')"
      ]
    },
    {
      "cell_type": "code",
      "execution_count": 3,
      "metadata": {},
      "outputs": [],
      "source": [
        "cap = cv2.VideoCapture(1)\n",
        "\n",
        "while cap.isOpened():\n",
        "  ret, frame = cap.read()\n",
        "\n",
        "  #Flip the camera\n",
        "  frame = cv2.flip(frame, 1)\n",
        "\n",
        "  cv2.imshow('Image Collection', frame)\n",
        "\n",
        "  if cv2.waitKey(1) & 0XFF == ord('x'):\n",
        "    break\n",
        "\n",
        "cap.release()\n",
        "cv2.destroyAllWindows()"
      ]
    },
    {
      "cell_type": "code",
      "execution_count": null,
      "metadata": {},
      "outputs": [],
      "source": []
    }
  ],
  "metadata": {
    "accelerator": "GPU",
    "colab": {
      "gpuType": "T4",
      "provenance": []
    },
    "kernelspec": {
      "display_name": "Python 3",
      "name": "python3"
    },
    "language_info": {
      "codemirror_mode": {
        "name": "ipython",
        "version": 3
      },
      "file_extension": ".py",
      "mimetype": "text/x-python",
      "name": "python",
      "nbconvert_exporter": "python",
      "pygments_lexer": "ipython3",
      "version": "3.12.2"
    }
  },
  "nbformat": 4,
  "nbformat_minor": 0
}
